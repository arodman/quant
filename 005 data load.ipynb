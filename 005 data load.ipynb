{
 "cells": [
  {
   "cell_type": "code",
   "execution_count": 1,
   "metadata": {},
   "outputs": [],
   "source": [
    "#IMPORT PACKAGES \n",
    "import datetime as dt\n",
    "from datetime import date\n",
    "import pandas as pd \n",
    "import matplotlib\n",
    "matplotlib.use('Agg')\n",
    "import pandas as pd\n",
    "from alphasuite.providers import MarketDataProvider\n",
    "from alphasuite.market import market_data_upload\n",
    "\n",
    "import pandas\n",
    "import pandas as pd\n",
    "from datetime import date\n",
    "from datetime import datetime\n",
    "from mdng_client import OTReader\n",
    "#####CHANGE UAT TO PROD\n",
    "reader = OTReader(tz='America/New_York', env='PROD')\n",
    "\n",
    "# the timezone for start/end and returned timestamps\n",
    "\n",
    "from mdng_client.utils import format_to_melted_df\n",
    "from mdng_client import OTReader\n",
    "import onetick.query as otq\n",
    "from datetime import datetime, timedelta\n",
    "import numpy as np\n",
    "\n",
    "reader = OTReader(tz='America/New_York', env='PROD')\n",
    "reader = OTReader(tz='America/New_York', env='PROD')\n",
    "\n",
    "import datetime as dt\n",
    "from datetime import datetime\n",
    "import matplotlib\n",
    "matplotlib.use('Agg')\n",
    "import pandas as pd\n",
    "from pandas import DataFrame\n",
    "from alphasuite.providers import MarketDataProvider\n",
    "from alphasuite.market import market_data_upload\n",
    "\n",
    "import pandas as pd\n",
    "\n",
    "import pandas\n",
    "from datetime import datetime\n",
    "from mdng_client import OTReader\n",
    "reader = OTReader(tz='America/New_York', env='PROD')\n",
    "\n",
    "import datetime as datetime\n",
    "import datetime "
   ]
  },
  {
   "cell_type": "code",
   "execution_count": 2,
   "metadata": {},
   "outputs": [
    {
     "name": "stdout",
     "output_type": "stream",
     "text": [
      "DatetimeIndex(['2009-12-31', '2010-01-07', '2010-01-14', '2010-01-21',\n",
      "               '2010-01-28', '2010-02-04', '2010-02-11', '2010-02-18',\n",
      "               '2010-02-25', '2010-03-04',\n",
      "               ...\n",
      "               '2021-09-16', '2021-09-23', '2021-09-30', '2021-10-07',\n",
      "               '2021-10-14', '2021-10-21', '2021-10-28', '2021-11-04',\n",
      "               '2021-11-11', '2021-11-18'],\n",
      "              dtype='datetime64[ns]', length=621, freq='7D')\n",
      "Y 2021 / M 11 / D 18 /// H 10 : M 48 : S 24\n"
     ]
    }
   ],
   "source": [
    "#parameters\n",
    "start = '2009-12-31'\n",
    "end = datetime.datetime.today().strftime('%Y-%m-%d')\n",
    "\n",
    "time = pd.date_range(start=start, end=end, freq='7d')\n",
    "print(time)\n",
    "\n",
    "now = datetime.datetime.now()\n",
    "print(\"Y\",now.year,\"/ M\", now.month,\"/ D\", now.day, \"/// H\",now.hour,\": M\", now.minute,\": S\", now.second)"
   ]
  },
  {
   "cell_type": "code",
   "execution_count": 3,
   "metadata": {},
   "outputs": [
    {
     "name": "stdout",
     "output_type": "stream",
     "text": [
      "Complete!!!!\n",
      "Y 2021 / M 11 / D 18 /// H 10 : M 48 : S 30\n"
     ]
    }
   ],
   "source": [
    "#historical volatility\n",
    "symbols = ['BBGTKR::BLOOMBERG_PARENT::SPGSCI INDEX', 'BBGTKR::BLOOMBERG_PARENT::SPGSBRP INDEX',\n",
    "           'BBGTKR::BLOOMBERG_PARENT::SPGSCCP INDEX', 'BBGTKR::BLOOMBERG_PARENT::SPGSKCP INDEX',\n",
    "           'BBGTKR::BLOOMBERG_PARENT::SPGSICP INDEX', 'BBGTKR::BLOOMBERG_PARENT::SPGSCNP INDEX',\n",
    "           'BBGTKR::BLOOMBERG_PARENT::SPGSCTP INDEX', 'BBGTKR::BLOOMBERG_PARENT::SPGSFCP INDEX',\n",
    "           'BBGTKR::BLOOMBERG_PARENT::SPGSHUP INDEX', 'BBGTKR::BLOOMBERG_PARENT::SPGSGCP INDEX',\n",
    "           'BBGTKR::BLOOMBERG_PARENT::SPGSHOP INDEX', 'BBGTKR::BLOOMBERG_PARENT::SPGSLHP INDEX',\n",
    "           'BBGTKR::BLOOMBERG_PARENT::SPGSLCP INDEX', 'BBGTKR::BLOOMBERG_PARENT::SPGSNGP INDEX',\n",
    "           'BBGTKR::BLOOMBERG_PARENT::SPGSPAP INDEX', 'BBGTKR::BLOOMBERG_PARENT::SPGSPLP INDEX',\n",
    "           'BBGTKR::BLOOMBERG_PARENT::SPGSSIP INDEX', 'BBGTKR::BLOOMBERG_PARENT::SPGSSOP INDEX', \n",
    "           'BBGTKR::BLOOMBERG_PARENT::SPGSSBP INDEX', 'BBGTKR::BLOOMBERG_PARENT::SPGSWHP INDEX',\n",
    "           'BBGTKR::BLOOMBERG_PARENT::SPGSCLP INDEX']\n",
    "\n",
    "#SPGSCTP INDEX\t1363173\n",
    "#'BBGTKR::BLOOMBERG::JMCXDLER Index',\n",
    "#'BBGTKR::BLOOMBERG::CSIXOJER Index',\n",
    "#'BBGTKR::BLOOMBERG::CIBZ1SM Index',\n",
    "#'BBGTKR::BLOOMBERG::CSIXOAER Index',\n",
    "#'BBGTKR::BLOOMBERG::CSIXRRER Index'\n",
    "#SPGSCTP INDEX\t1363173\n",
    "\n",
    "com =reader.get_daily_ticks(symbols=symbols, start=start, end=end, fields='PX_LAST',)\n",
    "com.head()\n",
    "com=com.fillna(method='bfill')\n",
    "com.to_csv (r'K:\\2020_2431\\q\\sandbox_com\\com_tmp.csv', index = True, header=True)\n",
    "print(\"Complete!!!!\")\n",
    "\n",
    "now = datetime.datetime.now()\n",
    "print(\"Y\",now.year,\"/ M\", now.month,\"/ D\", now.day, \"/// H\",now.hour,\": M\", now.minute,\": S\", now.second)"
   ]
  },
  {
   "cell_type": "code",
   "execution_count": 4,
   "metadata": {},
   "outputs": [
    {
     "name": "stdout",
     "output_type": "stream",
     "text": [
      "Complete!!!!\n",
      "Y 2021 / M 11 / D 18 /// H 10 : M 48 : S 35\n"
     ]
    }
   ],
   "source": [
    "#historical volatility\n",
    "symbols = ['BBGTKR::BLOOMBERG_PARENT::SPGSCI INDEX', 'BBGTKR::BLOOMBERG_PARENT::SPGSBRP INDEX',\n",
    "           'BBGTKR::BLOOMBERG_PARENT::SPGSCCP INDEX', 'BBGTKR::BLOOMBERG_PARENT::SPGSKCP INDEX',\n",
    "           'BBGTKR::BLOOMBERG_PARENT::SPGSICP INDEX', 'BBGTKR::BLOOMBERG_PARENT::SPGSCNP INDEX',\n",
    "           'BBGTKR::BLOOMBERG_PARENT::SPGSCTP INDEX', 'BBGTKR::BLOOMBERG_PARENT::SPGSFCP INDEX',\n",
    "           'BBGTKR::BLOOMBERG_PARENT::SPGSHUP INDEX', 'BBGTKR::BLOOMBERG_PARENT::SPGSGCP INDEX',\n",
    "           'BBGTKR::BLOOMBERG_PARENT::SPGSHOP INDEX', 'BBGTKR::BLOOMBERG_PARENT::SPGSLHP INDEX',\n",
    "           'BBGTKR::BLOOMBERG_PARENT::SPGSLCP INDEX', 'BBGTKR::BLOOMBERG_PARENT::SPGSNGP INDEX',\n",
    "           'BBGTKR::BLOOMBERG_PARENT::SPGSPAP INDEX', 'BBGTKR::BLOOMBERG_PARENT::SPGSPLP INDEX',\n",
    "           'BBGTKR::BLOOMBERG_PARENT::SPGSSIP INDEX', 'BBGTKR::BLOOMBERG_PARENT::SPGSSOP INDEX', \n",
    "           'BBGTKR::BLOOMBERG_PARENT::SPGSSBP INDEX', 'BBGTKR::BLOOMBERG_PARENT::SPGSWHP INDEX',\n",
    "           'BBGTKR::BLOOMBERG_PARENT::SPGSCLP INDEX', 'BBGTKR::BLOOMBERG_PARENT::CSIXOJER INDEX',\n",
    "           'BBGTKR::BLOOMBERG_PARENT::CIBZ1SM INDEX', 'BBGTKR::BLOOMBERG_PARENT::CSIXOAER INDEX',\n",
    "           'BBGTKR::BLOOMBERG_PARENT::CSIXRRER INDEX']\n",
    "\n",
    "\n",
    "#'BBGTKR::BLOOMBERG::CIBZ1SM Index',\n",
    "#'BBGTKR::BLOOMBERG::CSIXOAER Index',\n",
    "#'BBGTKR::BLOOMBERG::CSIXRRER Index]\n",
    "#SPGSCTP INDEX\t1363173\n",
    "#'BBGTKR::BLOOMBERG::JMCXDLER Index',\n",
    "#'BBGTKR::BLOOMBERG::CSIXOJER Index',\n",
    "#'BBGTKR::BLOOMBERG::CIBZ1SM Index',\n",
    "#'BBGTKR::BLOOMBERG::CSIXOAER Index',\n",
    "#'BBGTKR::BLOOMBERG::CSIXRRER Index'\n",
    "#SPGSCTP INDEX\t1363173\n",
    "\n",
    "com =reader.get_daily_ticks(symbols=symbols, start=start, end=end, fields='PX_LAST',)\n",
    "com.head()\n",
    "com=com.fillna(method='bfill')\n",
    "com.to_csv (r'K:\\2020_2431\\q\\sandbox_com\\com_tmp.csv', index = True, header=True)\n",
    "print(\"Complete!!!!\")\n",
    "\n",
    "now = datetime.datetime.now()\n",
    "print(\"Y\",now.year,\"/ M\", now.month,\"/ D\", now.day, \"/// H\",now.hour,\": M\", now.minute,\": S\", now.second)"
   ]
  },
  {
   "cell_type": "code",
   "execution_count": 5,
   "metadata": {},
   "outputs": [
    {
     "name": "stdout",
     "output_type": "stream",
     "text": [
      "Complete!!!!\n",
      "Y 2021 / M 11 / D 18 /// H 10 : M 48 : S 40\n"
     ]
    }
   ],
   "source": [
    "#\n",
    "symbols = ['BBGTKR::BLOOMBERG_PARENT::CO1 Comdty','BBGTKR::BLOOMBERG_PARENT::CC1 Comdty',\n",
    "           'BBGTKR::BLOOMBERG_PARENT::KC1 Comdty','BBGTKR::BLOOMBERG_PARENT::HG1 Comdty',\n",
    "           'BBGTKR::BLOOMBERG_PARENT::C 1 Comdty','BBGTKR::BLOOMBERG_PARENT::CT1 Comdty',\n",
    "           'BBGTKR::BLOOMBERG_PARENT::DL1 Comdty','BBGTKR::BLOOMBERG_PARENT::FC1 Comdty',\n",
    "           'BBGTKR::BLOOMBERG_PARENT::XB1 Comdty','BBGTKR::BLOOMBERG_PARENT::GC1 Comdty',\n",
    "           'BBGTKR::BLOOMBERG_PARENT::HO1 Comdty','BBGTKR::BLOOMBERG_PARENT::LH1 Comdty',\n",
    "           'BBGTKR::BLOOMBERG_PARENT::LC1 Comdty','BBGTKR::BLOOMBERG_PARENT::NG1 Comdty',\n",
    "           'BBGTKR::BLOOMBERG_PARENT::O 1 Comdty','BBGTKR::BLOOMBERG_PARENT::JO1 Comdty',\n",
    "           'BBGTKR::BLOOMBERG_PARENT::PA1 Comdty','BBGTKR::BLOOMBERG_PARENT::PL1 Comdty',\n",
    "           'BBGTKR::BLOOMBERG_PARENT::RR1 Comdty','BBGTKR::BLOOMBERG_PARENT::SI1 Comdty',\n",
    "           'BBGTKR::BLOOMBERG_PARENT::SM1 Comdty','BBGTKR::BLOOMBERG_PARENT::S 1 Comdty',\n",
    "           'BBGTKR::BLOOMBERG_PARENT::SB1 Comdty','BBGTKR::BLOOMBERG_PARENT::W 1 Comdty',\n",
    "           'BBGTKR::BLOOMBERG_PARENT::CL1 Comdty','BBGTKR::BLOOMBERG_PARENT::CO2 Comdty',\n",
    "           'BBGTKR::BLOOMBERG_PARENT::CC2 Comdty','BBGTKR::BLOOMBERG_PARENT::KC2 Comdty',\n",
    "           'BBGTKR::BLOOMBERG_PARENT::HG2 Comdty','BBGTKR::BLOOMBERG_PARENT::C 2 Comdty',\n",
    "           'BBGTKR::BLOOMBERG_PARENT::CT2 Comdty','BBGTKR::BLOOMBERG_PARENT::DL2 Comdty',\n",
    "           'BBGTKR::BLOOMBERG_PARENT::FC2 Comdty','BBGTKR::BLOOMBERG_PARENT::XB2 Comdty',\n",
    "           'BBGTKR::BLOOMBERG_PARENT::GC2 Comdty','BBGTKR::BLOOMBERG_PARENT::HO2 Comdty',\n",
    "           'BBGTKR::BLOOMBERG_PARENT::LH2 Comdty','BBGTKR::BLOOMBERG_PARENT::LC2 Comdty',\n",
    "           'BBGTKR::BLOOMBERG_PARENT::NG2 Comdty','BBGTKR::BLOOMBERG_PARENT::O 2 Comdty',\n",
    "           'BBGTKR::BLOOMBERG_PARENT::JO2 Comdty','BBGTKR::BLOOMBERG_PARENT::PA2 Comdty',\n",
    "           'BBGTKR::BLOOMBERG_PARENT::PL2 Comdty','BBGTKR::BLOOMBERG_PARENT::RR2 Comdty',\n",
    "           'BBGTKR::BLOOMBERG_PARENT::SI2 Comdty','BBGTKR::BLOOMBERG_PARENT::SM2 Comdty',\n",
    "           'BBGTKR::BLOOMBERG_PARENT::S 2 Comdty','BBGTKR::BLOOMBERG_PARENT::SB2 Comdty',\n",
    "           'BBGTKR::BLOOMBERG_PARENT::W 2 Comdty','BBGTKR::BLOOMBERG_PARENT::CL2 Comdty']\n",
    "\n",
    "#SPGSCTP INDEX\t1363173\n",
    "#'BBGTKR::BLOOMBERG::JMCXDLER Index',\n",
    "#'BBGTKR::BLOOMBERG::CSIXOJER Index',\n",
    "#'BBGTKR::BLOOMBERG::CIBZ1SM Index',\n",
    "#'BBGTKR::BLOOMBERG::CSIXOAER Index',\n",
    "#'BBGTKR::BLOOMBERG::CSIXRRER Index'\n",
    "#SPGSCTP INDEX\t1363173\n",
    "\n",
    "f_com =reader.get_daily_ticks(symbols=symbols, start=start, end=end, fields='PX_LAST',)\n",
    "f_com.head()\n",
    "f_com=f_com.fillna(method='bfill')\n",
    "f_com.to_csv (r'K:\\2020_2431\\q\\sandbox_com\\f_com_tmp.csv', index = True, header=True)\n",
    "print(\"Complete!!!!\")\n",
    "\n",
    "now = datetime.datetime.now()\n",
    "print(\"Y\",now.year,\"/ M\", now.month,\"/ D\", now.day, \"/// H\",now.hour,\": M\", now.minute,\": S\", now.second)"
   ]
  },
  {
   "cell_type": "code",
   "execution_count": 6,
   "metadata": {},
   "outputs": [
    {
     "name": "stdout",
     "output_type": "stream",
     "text": [
      "Complete!!!!\n",
      "Y 2021 / M 11 / D 18 /// H 10 : M 48 : S 47\n"
     ]
    }
   ],
   "source": [
    "###\n",
    "#volume\n",
    "#\n",
    "symbols = ['BBGTKR::BLOOMBERG_PARENT::CO1 Comdty','BBGTKR::BLOOMBERG_PARENT::CC1 Comdty',\n",
    "           'BBGTKR::BLOOMBERG_PARENT::KC1 Comdty','BBGTKR::BLOOMBERG_PARENT::HG1 Comdty',\n",
    "           'BBGTKR::BLOOMBERG_PARENT::C 1 Comdty','BBGTKR::BLOOMBERG_PARENT::CT1 Comdty',\n",
    "           'BBGTKR::BLOOMBERG_PARENT::DL1 Comdty','BBGTKR::BLOOMBERG_PARENT::FC1 Comdty',\n",
    "           'BBGTKR::BLOOMBERG_PARENT::XB1 Comdty','BBGTKR::BLOOMBERG_PARENT::GC1 Comdty',\n",
    "           'BBGTKR::BLOOMBERG_PARENT::HO1 Comdty','BBGTKR::BLOOMBERG_PARENT::LH1 Comdty',\n",
    "           'BBGTKR::BLOOMBERG_PARENT::LC1 Comdty','BBGTKR::BLOOMBERG_PARENT::NG1 Comdty',\n",
    "           'BBGTKR::BLOOMBERG_PARENT::O 1 Comdty','BBGTKR::BLOOMBERG_PARENT::JO1 Comdty',\n",
    "           'BBGTKR::BLOOMBERG_PARENT::PA1 Comdty','BBGTKR::BLOOMBERG_PARENT::PL1 Comdty',\n",
    "           'BBGTKR::BLOOMBERG_PARENT::RR1 Comdty','BBGTKR::BLOOMBERG_PARENT::SI1 Comdty',\n",
    "           'BBGTKR::BLOOMBERG_PARENT::SM1 Comdty','BBGTKR::BLOOMBERG_PARENT::S 1 Comdty',\n",
    "           'BBGTKR::BLOOMBERG_PARENT::SB1 Comdty','BBGTKR::BLOOMBERG_PARENT::W 1 Comdty',\n",
    "           'BBGTKR::BLOOMBERG_PARENT::CL1 Comdty','BBGTKR::BLOOMBERG_PARENT::CO2 Comdty',\n",
    "           'BBGTKR::BLOOMBERG_PARENT::CC2 Comdty','BBGTKR::BLOOMBERG_PARENT::KC2 Comdty',\n",
    "           'BBGTKR::BLOOMBERG_PARENT::HG2 Comdty','BBGTKR::BLOOMBERG_PARENT::C 2 Comdty',\n",
    "           'BBGTKR::BLOOMBERG_PARENT::CT2 Comdty','BBGTKR::BLOOMBERG_PARENT::DL2 Comdty',\n",
    "           'BBGTKR::BLOOMBERG_PARENT::FC2 Comdty','BBGTKR::BLOOMBERG_PARENT::XB2 Comdty',\n",
    "           'BBGTKR::BLOOMBERG_PARENT::GC2 Comdty','BBGTKR::BLOOMBERG_PARENT::HO2 Comdty',\n",
    "           'BBGTKR::BLOOMBERG_PARENT::LH2 Comdty','BBGTKR::BLOOMBERG_PARENT::LC2 Comdty',\n",
    "           'BBGTKR::BLOOMBERG_PARENT::NG2 Comdty','BBGTKR::BLOOMBERG_PARENT::O 2 Comdty',\n",
    "           'BBGTKR::BLOOMBERG_PARENT::JO2 Comdty','BBGTKR::BLOOMBERG_PARENT::PA2 Comdty',\n",
    "           'BBGTKR::BLOOMBERG_PARENT::PL2 Comdty','BBGTKR::BLOOMBERG_PARENT::RR2 Comdty',\n",
    "           'BBGTKR::BLOOMBERG_PARENT::SI2 Comdty','BBGTKR::BLOOMBERG_PARENT::SM2 Comdty',\n",
    "           'BBGTKR::BLOOMBERG_PARENT::S 2 Comdty','BBGTKR::BLOOMBERG_PARENT::SB2 Comdty',\n",
    "           'BBGTKR::BLOOMBERG_PARENT::W 2 Comdty','BBGTKR::BLOOMBERG_PARENT::CL2 Comdty']\n",
    "\n",
    "#SPGSCTP INDEX\t1363173\n",
    "#'BBGTKR::BLOOMBERG::JMCXDLER Index',\n",
    "#'BBGTKR::BLOOMBERG::CSIXOJER Index',\n",
    "#'BBGTKR::BLOOMBERG::CIBZ1SM Index',\n",
    "#'BBGTKR::BLOOMBERG::CSIXOAER Index',\n",
    "#'BBGTKR::BLOOMBERG::CSIXRRER Index'\n",
    "#SPGSCTP INDEX\t1363173\n",
    "\n",
    "f_com =reader.get_daily_ticks(symbols=symbols, start=start, end=end, fields='VOLUME',)\n",
    "f_com.head()\n",
    "f_com=f_com.fillna(method='bfill')\n",
    "f_com.to_csv (r'K:\\2020_2431\\q\\sandbox_com\\f_com_v_tmp.csv', index = True, header=True)\n",
    "print(\"Complete!!!!\")\n",
    "\n",
    "now = datetime.datetime.now()\n",
    "print(\"Y\",now.year,\"/ M\", now.month,\"/ D\", now.day, \"/// H\",now.hour,\": M\", now.minute,\": S\", now.second)"
   ]
  },
  {
   "cell_type": "code",
   "execution_count": 7,
   "metadata": {},
   "outputs": [
    {
     "name": "stdout",
     "output_type": "stream",
     "text": [
      "Complete!!!!\n",
      "Y 2021 / M 11 / D 18 /// H 10 : M 48 : S 54\n"
     ]
    }
   ],
   "source": [
    "#open interest\n",
    "#\n",
    "symbols = ['BBGTKR::BLOOMBERG_PARENT::CO1 Comdty','BBGTKR::BLOOMBERG_PARENT::CC1 Comdty',\n",
    "           'BBGTKR::BLOOMBERG_PARENT::KC1 Comdty','BBGTKR::BLOOMBERG_PARENT::HG1 Comdty',\n",
    "           'BBGTKR::BLOOMBERG_PARENT::C 1 Comdty','BBGTKR::BLOOMBERG_PARENT::CT1 Comdty',\n",
    "           'BBGTKR::BLOOMBERG_PARENT::DL1 Comdty','BBGTKR::BLOOMBERG_PARENT::FC1 Comdty',\n",
    "           'BBGTKR::BLOOMBERG_PARENT::XB1 Comdty','BBGTKR::BLOOMBERG_PARENT::GC1 Comdty',\n",
    "           'BBGTKR::BLOOMBERG_PARENT::HO1 Comdty','BBGTKR::BLOOMBERG_PARENT::LH1 Comdty',\n",
    "           'BBGTKR::BLOOMBERG_PARENT::LC1 Comdty','BBGTKR::BLOOMBERG_PARENT::NG1 Comdty',\n",
    "           'BBGTKR::BLOOMBERG_PARENT::O 1 Comdty','BBGTKR::BLOOMBERG_PARENT::JO1 Comdty',\n",
    "           'BBGTKR::BLOOMBERG_PARENT::PA1 Comdty','BBGTKR::BLOOMBERG_PARENT::PL1 Comdty',\n",
    "           'BBGTKR::BLOOMBERG_PARENT::RR1 Comdty','BBGTKR::BLOOMBERG_PARENT::SI1 Comdty',\n",
    "           'BBGTKR::BLOOMBERG_PARENT::SM1 Comdty','BBGTKR::BLOOMBERG_PARENT::S 1 Comdty',\n",
    "           'BBGTKR::BLOOMBERG_PARENT::SB1 Comdty','BBGTKR::BLOOMBERG_PARENT::W 1 Comdty',\n",
    "           'BBGTKR::BLOOMBERG_PARENT::CL1 Comdty','BBGTKR::BLOOMBERG_PARENT::CO2 Comdty',\n",
    "           'BBGTKR::BLOOMBERG_PARENT::CC2 Comdty','BBGTKR::BLOOMBERG_PARENT::KC2 Comdty',\n",
    "           'BBGTKR::BLOOMBERG_PARENT::HG2 Comdty','BBGTKR::BLOOMBERG_PARENT::C 2 Comdty',\n",
    "           'BBGTKR::BLOOMBERG_PARENT::CT2 Comdty','BBGTKR::BLOOMBERG_PARENT::DL2 Comdty',\n",
    "           'BBGTKR::BLOOMBERG_PARENT::FC2 Comdty','BBGTKR::BLOOMBERG_PARENT::XB2 Comdty',\n",
    "           'BBGTKR::BLOOMBERG_PARENT::GC2 Comdty','BBGTKR::BLOOMBERG_PARENT::HO2 Comdty',\n",
    "           'BBGTKR::BLOOMBERG_PARENT::LH2 Comdty','BBGTKR::BLOOMBERG_PARENT::LC2 Comdty',\n",
    "           'BBGTKR::BLOOMBERG_PARENT::NG2 Comdty','BBGTKR::BLOOMBERG_PARENT::O 2 Comdty',\n",
    "           'BBGTKR::BLOOMBERG_PARENT::JO2 Comdty','BBGTKR::BLOOMBERG_PARENT::PA2 Comdty',\n",
    "           'BBGTKR::BLOOMBERG_PARENT::PL2 Comdty','BBGTKR::BLOOMBERG_PARENT::RR2 Comdty',\n",
    "           'BBGTKR::BLOOMBERG_PARENT::SI2 Comdty','BBGTKR::BLOOMBERG_PARENT::SM2 Comdty',\n",
    "           'BBGTKR::BLOOMBERG_PARENT::S 2 Comdty','BBGTKR::BLOOMBERG_PARENT::SB2 Comdty',\n",
    "           'BBGTKR::BLOOMBERG_PARENT::W 2 Comdty','BBGTKR::BLOOMBERG_PARENT::CL2 Comdty']\n",
    "\n",
    "#SPGSCTP INDEX\t1363173\n",
    "#'BBGTKR::BLOOMBERG::JMCXDLER Index',\n",
    "#'BBGTKR::BLOOMBERG::CSIXOJER Index',\n",
    "#'BBGTKR::BLOOMBERG::CIBZ1SM Index',\n",
    "#'BBGTKR::BLOOMBERG::CSIXOAER Index',\n",
    "#'BBGTKR::BLOOMBERG::CSIXRRER Index'\n",
    "#SPGSCTP INDEX\t1363173\n",
    "\n",
    "f_com =reader.get_daily_ticks(symbols=symbols, start=start, end=end, fields='OPEN_INT',)\n",
    "f_com.head()\n",
    "f_com=f_com.fillna(method='bfill')\n",
    "f_com.to_csv (r'K:\\2020_2431\\q\\sandbox_com\\f_com_open_tmp.csv', index = True, header=True)\n",
    "print(\"Complete!!!!\")\n",
    "\n",
    "now = datetime.datetime.now()\n",
    "print(\"Y\",now.year,\"/ M\", now.month,\"/ D\", now.day, \"/// H\",now.hour,\": M\", now.minute,\": S\", now.second)"
   ]
  },
  {
   "cell_type": "code",
   "execution_count": 8,
   "metadata": {},
   "outputs": [
    {
     "name": "stdout",
     "output_type": "stream",
     "text": [
      "Complete!!!!\n",
      "Y 2021 / M 11 / D 18 /// H 10 : M 48 : S 56\n"
     ]
    }
   ],
   "source": [
    "#BBGTKR::BLOOMBERG::DXY Curncy\n",
    "#BBGTKR::BLOOMBERG::CPI INDX Index\n",
    "#BBGTKR::BLOOMBERG::CPI CHNG Index\n",
    "#BBGTKR::BLOOMBERG::CPI YOY Index\n",
    "#'BBGTKR::BLOOMBERG_PARENT::CPI INDX INDEX',\n",
    "#         'BBGTKR::BLOOMBERG_PARENT::CPI CHNG INDEX',\n",
    "#           'BBGTKR::BLOOMBERG_PARENT::CPI YOY INDEX']\n",
    "            \n",
    "\n",
    "symbols = ['BBGTKR::BLOOMBERG_PARENT::DXY CURNCY']\n",
    "\n",
    "           \n",
    "           \n",
    "           \n",
    "f_com =reader.get_daily_ticks(symbols=symbols, start=start, end=end, fields='PRICE',)\n",
    "f_com.head()\n",
    "f_com=f_com.fillna(method='bfill')\n",
    "f_com.to_csv (r'K:\\2020_2431\\q\\sandbox_com\\c_dxy_tmp.csv', index = True, header=True)\n",
    "print(\"Complete!!!!\")\n",
    "\n",
    "now = datetime.datetime.now()\n",
    "print(\"Y\",now.year,\"/ M\", now.month,\"/ D\", now.day, \"/// H\",now.hour,\": M\", now.minute,\": S\", now.second)       "
   ]
  },
  {
   "cell_type": "code",
   "execution_count": 11,
   "metadata": {},
   "outputs": [
    {
     "name": "stdout",
     "output_type": "stream",
     "text": [
      "Complete!!!!\n",
      "Y 2021 / M 11 / D 18 /// H 14 : M 41 : S 10\n"
     ]
    },
    {
     "ename": "NameError",
     "evalue": "name 'kkkkkk' is not defined",
     "output_type": "error",
     "traceback": [
      "\u001b[1;31m---------------------------------------------------------------------------\u001b[0m",
      "\u001b[1;31mNameError\u001b[0m                                 Traceback (most recent call last)",
      "\u001b[1;32m<ipython-input-11-dc56787927c2>\u001b[0m in \u001b[0;36m<module>\u001b[1;34m\u001b[0m\n\u001b[0;32m     18\u001b[0m \u001b[1;33m\u001b[0m\u001b[0m\n\u001b[0;32m     19\u001b[0m \u001b[1;33m\u001b[0m\u001b[0m\n\u001b[1;32m---> 20\u001b[1;33m \u001b[0mkkkkkk\u001b[0m\u001b[1;33m\u001b[0m\u001b[1;33m\u001b[0m\u001b[0m\n\u001b[0m",
      "\u001b[1;31mNameError\u001b[0m: name 'kkkkkk' is not defined"
     ]
    }
   ],
   "source": [
    "symbols = ['BBGTKR::BLOOMBERG_PARENT::CPI INDX INDEX',\n",
    "           'BBGTKR::BLOOMBERG_PARENT::CPI CHNG INDEX',\n",
    "           'BBGTKR::BLOOMBERG_PARENT::CPI YOY INDEX']    \n",
    "\n",
    "symbols = ['BBGTKR::BLOOMBERG_PARENT::CPI CHNG INDEX']           \n",
    "                      \n",
    "           \n",
    "f_com =reader.get_daily_ticks(symbols=symbols, start=start, end=end, fields='PRICE',)\n",
    "f_com.head()\n",
    "f_com=f_com.fillna(method='bfill')\n",
    "f_com.to_csv (r'K:\\2020_2431\\q\\sandbox_com\\c_cpi_tmp.csv', index = True, header=True)\n",
    "print(\"Complete!!!!\")\n",
    "\n",
    "now = datetime.datetime.now()\n",
    "print(\"Y\",now.year,\"/ M\", now.month,\"/ D\", now.day, \"/// H\",now.hour,\": M\", now.minute,\": S\", now.second)     \n",
    "\n",
    "\n",
    "\n",
    "\n",
    "kkkkkk"
   ]
  },
  {
   "cell_type": "code",
   "execution_count": null,
   "metadata": {},
   "outputs": [],
   "source": [
    "Brent Crude Oil\n",
    "Cocoa\n",
    "Coffee\n",
    "Copper\n",
    "Corn\n",
    "Cotton\n",
    "Ethanol\n",
    "Feeder Cattle\n",
    "Gasoline\n",
    "Gold\n",
    "Heating Oil\n",
    "Lean Hogs\n",
    "Live Cattle\n",
    "Natural Gas\n",
    "Oats\n",
    "Orange Juice\n",
    "Palladium\n",
    "Platinum\n",
    "Rough Rice\n",
    "Silver\n",
    "Soybean Meal\n",
    "Soybeans\n",
    "Sugar\n",
    "Wheat\n",
    "WTI Crude Oil\n",
    "\n",
    "\n",
    "\n",
    "\n",
    "import datetime\n",
    "import pytz\n",
    "import pandas            as pd\n",
    "import numpy             as np\n",
    "import zipfile, urllib.request, shutil\n",
    "import os\n",
    "def get_COT(url, file_name):\n",
    "    \n",
    "    with urllib.request.urlopen(url) as response, open(file_name, 'wb') as out_file:\n",
    "        shutil.copyfileobj(response, out_file)\n",
    "        \n",
    "    with zipfile.ZipFile(file_name) as zf:\n",
    "            zf.extractall()"
   ]
  },
  {
   "cell_type": "code",
   "execution_count": null,
   "metadata": {},
   "outputs": [],
   "source": [
    "#https://medium.com/swlh/using-python-to-download-sentiment-data-for-financial-trading-1c44346926e2\n",
    "\n",
    "os.chdir('K:/2020_2431/q/sandbox_com/')\n",
    "#https://medium.com/swlh/using-python-to-download-sentiment-data-for-financial-trading-1c44346926e2\n",
    "\n",
    "\n",
    "# Downloading and extracting COT filesos.chdir('K:/2020_2431/q/gm_sensitivity/images/table/')\n",
    "\n",
    "\n",
    "get_COT('https://www.cftc.gov/files/dea/history/fut_fin_xls_2019.zip',\n",
    "        '2019.zip')\n",
    "get_COT('https://www.cftc.gov/files/dea/history/fut_fin_xls_2020.zip',\n",
    "        '2020.zip')\n",
    "get_COT('https://www.cftc.gov/files/dea/history/fut_fin_xls_2021.zip',\n",
    "        '2021.zip')\n",
    "\n",
    "\n",
    "\n",
    "#get_COT('2011.zip','2012.zip','2013.zip','2014.zip','2015.zip','2016.zip','2017.zip','2018.zip','2019.zip','2020.zip')\n",
    "\n",
    "# Renaming\n",
    "os.rename(r'K:\\2020_2431\\q\\sandbox_com\\FinFutYY.xls',\n",
    "          r'K:\\2020_2431\\q\\sandbox_com\\2021.xls')\n",
    "\n",
    "\n",
    "data_2021 = pd.read_excel('2021.xls')\n",
    "data_2021 = data_2021[['Market_and_Exchange_Names', \n",
    "                                 'Report_Date_as_MM_DD_YYYY',\n",
    "                                 'Pct_of_OI_Dealer_Long_All',\n",
    "                                 'Pct_of_OI_Dealer_Short_All',\n",
    "                                 'Pct_of_OI_Lev_Money_Long_All',\n",
    "                                 'Pct_of_OI_Lev_Money_Short_All',]]\n",
    "\n"
   ]
  },
  {
   "cell_type": "code",
   "execution_count": null,
   "metadata": {},
   "outputs": [],
   "source": [
    "print(data_2021)\n",
    "\n",
    "data_2021.to_clipboard()"
   ]
  },
  {
   "cell_type": "code",
   "execution_count": null,
   "metadata": {},
   "outputs": [],
   "source": [
    "#import quandl\n",
    "#mydata = quandl.get(\"FRED/GDP\")"
   ]
  },
  {
   "cell_type": "code",
   "execution_count": null,
   "metadata": {},
   "outputs": [],
   "source": [
    "#CFTC/085692_FO_L_ALL"
   ]
  }
 ],
 "metadata": {
  "kernelspec": {
   "display_name": "anaconda_2018.12",
   "language": "python",
   "name": "anaconda_2018.12"
  },
  "language_info": {
   "codemirror_mode": {
    "name": "ipython",
    "version": 3
   },
   "file_extension": ".py",
   "mimetype": "text/x-python",
   "name": "python",
   "nbconvert_exporter": "python",
   "pygments_lexer": "ipython3",
   "version": "3.7.1"
  }
 },
 "nbformat": 4,
 "nbformat_minor": 4
}
