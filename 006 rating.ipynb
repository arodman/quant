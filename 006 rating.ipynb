{
 "cells": [
  {
   "cell_type": "code",
   "execution_count": 8,
   "metadata": {},
   "outputs": [],
   "source": [
    "import os\n",
    "import json\n",
    "import datetime\n",
    "os.chdir('P:/Technology/AlphaQuant/lib/BloombergData')\n",
    "from BBG_Helper import BLP\n",
    "import logging\n",
    "import sys\n",
    "import pandas as pd"
   ]
  },
  {
   "cell_type": "code",
   "execution_count": null,
   "metadata": {},
   "outputs": [],
   "source": [
    "stdout_handler = logging.StreamHandler(sys.stdout)\n",
    "handlers = [stdout_handler]\n",
    "\n",
    "logging.basicConfig(\n",
    "    level=logging.INFO, \n",
    "    format='[%(asctime)s] {%(filename)s:%(lineno)d} %(levelname)s - %(message)s',\n",
    "    handlers=handlers\n",
    ")\n",
    "\n",
    "logger = logging.getLogger('LOGGER_NAME')\n",
    "# _p_drive = os.environ[\"_P_DRIVE\"]\n",
    "# # _base_path = os.path.join(_p_drive, 'Technology', 'AlphaQuant','fitchmodel')\n",
    "# _base_path=('P:/Technology/AlphaQuant/rating_model')\n",
    "# _rating_hist_file = os.path.join(_base_path,'RatingHistory.pkl')\n",
    "# _outlook_file = os.path.join(_base_path,'outlook.json')\n",
    "# # pd.read_pickle(_rating_hist_file)"
   ]
  },
  {
   "cell_type": "code",
   "execution_count": 6,
   "metadata": {},
   "outputs": [
    {
     "name": "stdout",
     "output_type": "stream",
     "text": [
      "{'Austria': '1480Z AV Equity'}\n"
     ]
    }
   ],
   "source": [
    "ticker_map={\n",
    "'Austria':\t'1480Z AV Equity'\n",
    "# 'Belgium':\t'111136Z BB Equity',\n",
    "# 'Cyprus':\t'3343903Z CY Equity',\n",
    "# 'Finland':\t'1306Z FH Equity',\n",
    "# 'France':\t'223727Z FP Equity',\n",
    "# 'Germany':\t'3413Z GR Equity',\n",
    "# 'Greece':\t'1004Z GA Equity',\n",
    "# 'Ireland':\t'1266Z ID Equity',\n",
    "# 'Italy':\t'2103Z IM Equity',\n",
    "# 'Netherlands':\t'1533Z NA Equity',\n",
    "# 'Portugal':\t'1174Z PL Equity',\n",
    "# 'Spain':\t'1841Z SM Equity'\n",
    "}\n",
    "\n",
    "print(ticker_map)"
   ]
  },
  {
   "cell_type": "code",
   "execution_count": 10,
   "metadata": {},
   "outputs": [
    {
     "name": "stderr",
     "output_type": "stream",
     "text": [
      "ERROR:root:strptime() argument 1 must be str, not float\n",
      "Traceback (most recent call last):\n",
      "  File \"<ipython-input-10-fe69c28aebba>\", line 47, in <module>\n",
      "    sdt=datetime.datetime.strptime(rating_st_dt,'%Y-%m-%d')\n",
      "TypeError: strptime() argument 1 must be str, not float\n"
     ]
    },
    {
     "name": "stdout",
     "output_type": "stream",
     "text": [
      "error with 1480Z AV Equity RTG_MOODY_LONG_TERM\n",
      "error with 1480Z AV Equity RTG_MOODY_LONG_TERM_DATE\n"
     ]
    },
    {
     "ename": "NameError",
     "evalue": "name 'np' is not defined",
     "output_type": "error",
     "traceback": [
      "\u001b[1;31m---------------------------------------------------------------------------\u001b[0m",
      "\u001b[1;31mNameError\u001b[0m                                 Traceback (most recent call last)",
      "\u001b[1;32m<ipython-input-10-fe69c28aebba>\u001b[0m in \u001b[0;36m<module>\u001b[1;34m\u001b[0m\n\u001b[0;32m     70\u001b[0m \u001b[1;33m\u001b[0m\u001b[0m\n\u001b[0;32m     71\u001b[0m \u001b[0mdf_r0\u001b[0m\u001b[1;33m=\u001b[0m\u001b[0mdf\u001b[0m\u001b[1;33m\u001b[0m\u001b[1;33m\u001b[0m\u001b[0m\n\u001b[1;32m---> 72\u001b[1;33m \u001b[0mdf_r0\u001b[0m\u001b[1;33m=\u001b[0m\u001b[0mpd\u001b[0m\u001b[1;33m.\u001b[0m\u001b[0mpivot_table\u001b[0m\u001b[1;33m(\u001b[0m\u001b[0mdf_r0\u001b[0m\u001b[1;33m,\u001b[0m\u001b[0mindex\u001b[0m\u001b[1;33m=\u001b[0m\u001b[1;33m[\u001b[0m\u001b[1;34m\"Country\"\u001b[0m\u001b[1;33m]\u001b[0m\u001b[1;33m,\u001b[0m\u001b[0mvalues\u001b[0m\u001b[1;33m=\u001b[0m\u001b[1;33m[\u001b[0m\u001b[1;34m\"End_Date\"\u001b[0m\u001b[1;33m]\u001b[0m\u001b[1;33m,\u001b[0m \u001b[0mcolumns\u001b[0m\u001b[1;33m=\u001b[0m\u001b[1;33m[\u001b[0m\u001b[1;34m\"Agency\"\u001b[0m\u001b[1;33m]\u001b[0m\u001b[1;33m,\u001b[0m\u001b[0maggfunc\u001b[0m\u001b[1;33m=\u001b[0m\u001b[1;33m[\u001b[0m\u001b[0mnp\u001b[0m\u001b[1;33m.\u001b[0m\u001b[0mmax\u001b[0m\u001b[1;33m]\u001b[0m\u001b[1;33m)\u001b[0m\u001b[1;33m\u001b[0m\u001b[1;33m\u001b[0m\u001b[0m\n\u001b[0m\u001b[0;32m     73\u001b[0m \u001b[0mdf_r1\u001b[0m\u001b[1;33m.\u001b[0m\u001b[0mcolumns\u001b[0m \u001b[1;33m=\u001b[0m \u001b[0mdf_r0\u001b[0m\u001b[1;33m.\u001b[0m\u001b[0mcolumns\u001b[0m\u001b[1;33m.\u001b[0m\u001b[0mget_level_values\u001b[0m\u001b[1;33m(\u001b[0m\u001b[1;36m2\u001b[0m\u001b[1;33m)\u001b[0m\u001b[1;33m\u001b[0m\u001b[1;33m\u001b[0m\u001b[0m\n\u001b[0;32m     74\u001b[0m \u001b[0mprint\u001b[0m\u001b[1;33m(\u001b[0m\u001b[0mdf_r1\u001b[0m\u001b[1;33m)\u001b[0m\u001b[1;33m\u001b[0m\u001b[1;33m\u001b[0m\u001b[0m\n",
      "\u001b[1;31mNameError\u001b[0m: name 'np' is not defined"
     ]
    }
   ],
   "source": [
    "mapping={\n",
    "        'Fitch':{\n",
    "                 'rating':'RTG_FITCH_LT_ISSUER_DEFAULT',\n",
    "                 'rating_revision_dt':'RTG_FITCH_LT_ISSUER_DFLT_RTG_DT', \n",
    "                 'outlook':'RTG_FITCH_OUTLOOK',\n",
    "                 'outlook_dt':'RTG_FITCH_OUTLOOK_DT'\n",
    "                },\n",
    "        'Moodys':{\n",
    "                  'rating':'RTG_MOODY_LONG_TERM',\n",
    "                  'rating_revision_dt':'RTG_MOODY_LONG_TERM_DATE',\n",
    "                  'outlook':'RTG_MDY_OUTLOOK',\n",
    "                  'outlook_dt':'RTG_MDY_OUTLOOK_DT'\n",
    "                 },\n",
    "        'S&P':{\n",
    "               'rating':'RTG_SP_LT_LC_ISSUER_CREDIT',\n",
    "               'rating_revision_dt':'RTG_SP_LT_LC_ISS_CRED_RTG_DT',\n",
    "               'outlook':'RTG_SP_OUTLOOK',\n",
    "               'outlook_dt':'RTG_SP_OUTLOOK_DT'\n",
    "              }\n",
    "        }\n",
    "agency=['Fitch','Moodys','S&P']\n",
    "rating_dic={}\n",
    "outlook_dic={}\n",
    "blp=BLP()\n",
    "index=0\n",
    "\n",
    "for a in agency:\n",
    "    logging.info('Processing - {}'.format(a))\n",
    "    outlook_dic[a]={}\n",
    "    current_dt=datetime.datetime(2050,1,1)\n",
    "    start_dt=datetime.datetime(2000,1,1)\n",
    "    max_iter=50\n",
    "\n",
    "    for t in ticker_map:\n",
    "        logging.info('Processing - {}'.format(t))\n",
    "        i=0\n",
    "        edt=current_dt\n",
    "        ticker=ticker_map[t]\n",
    "        outlook_dic[a][t]={}\n",
    "        outlook_dic[a][t]['outlook']=blp.bdp(ticker,mapping[a]['outlook'])\n",
    "        outlook_dic[a][t]['outlook_dt']=blp.bdp(ticker,mapping[a]['outlook_dt'])\n",
    "#         logging.info('Outlook {}-{}'.format(outlook_dic[t]['outlook'],outlook_dic[t]['outlook_dt']))\n",
    "        try:\n",
    "            while edt>=start_dt and i<=max_iter:\n",
    "                rating=blp.bdp(ticker,mapping[a]['rating'],'RATING_AS_OF_DATE_OVERRIDE',edt.strftime('%Y%m%d'))\n",
    "                rating_st_dt=blp.bdp(ticker,mapping[a]['rating_revision_dt'],'RATING_AS_OF_DATE_OVERRIDE',edt.strftime('%Y%m%d'))\n",
    "                sdt=datetime.datetime.strptime(rating_st_dt,'%Y-%m-%d')\n",
    "                rating_dic[index]=[a,t,sdt.strftime('%Y-%m-%d'),edt.strftime('%Y-%m-%d'),rating]\n",
    "                edt=sdt-datetime.timedelta(days=1)\n",
    "                index=index+1\n",
    "                if edt<=start_dt:\n",
    "                    break\n",
    "                i=i+1\n",
    "\n",
    "        except Exception as e:\n",
    "            logging.exception(e)\n",
    "\n",
    "df=pd.DataFrame.from_dict(rating_dic, orient='index',columns=['Agency','Country','Start_Date','End_Date','Rating'])\n",
    "# logging.info('Saving ratings to {}'.format(_rating_hist_file))\n",
    "# df.to_pickle(_rating_hist_file)\n",
    "# logging.info('Saving outlook to {}'.format(_outlook_file))\n",
    "# with open(_outlook_file, 'w') as fp:\n",
    "#     json.dump(outlook_dic, fp,indent=4)\n",
    "#df=pd.DataFrame.from_dict(rating_dic, orient='index',columns=['Agency','Country','Start_Date','End_Date','Rating'])\n",
    "# logging.info('Saving ratings to {}'.format(_rating_hist_file))\n",
    "# df.to_pickle(_rating_hist_file)\n",
    "# logging.info('Saving outlook to {}'.format(_outlook_file))\n",
    "# with open(_outlook_file, 'w') as fp:\n",
    "#     json.dump(outlook_dic, fp,indent=4)\n",
    "\n",
    "df_r0.columns=df\n",
    "df_r0=pd.pivot_table(df_r0,index=[\"Country\"],values=[\"End_Date\"], columns=[\"Agency\"],aggfunc=[np.max])\n",
    "df_r1.columns = df_r0.columns.get_level_values(2)\n",
    "print(df_r1)\n",
    "\n",
    "\n",
    "\n",
    "\n",
    "\n",
    "        \n",
    "  "
   ]
  },
  {
   "cell_type": "code",
   "execution_count": 3,
   "metadata": {},
   "outputs": [
    {
     "name": "stderr",
     "output_type": "stream",
     "text": [
      "<>:5: SyntaxWarning: 'str' object is not callable; perhaps you missed a comma?\n",
      "<>:5: SyntaxWarning: 'str' object is not callable; perhaps you missed a comma?\n"
     ]
    },
    {
     "name": "stdout",
     "output_type": "stream",
     "text": [
      "        country              ticker\n",
      "0           USA     3352Z US Equity\n",
      "1        Brazil     1323Z BZ Equity\n",
      "2      Colombia     1153Z CB Equity\n",
      "3        Mexico     1426Z MM Equity\n",
      "4         Chile    45793Z CI Equity\n",
      "..          ...                 ...\n",
      "56  Philippines   279379Z PM Equity\n",
      "57     Thailand     1179Z TB Equity\n",
      "58      Vietnam   231715Z VN Equity\n",
      "59    Hong Kong  3343935Z HK Equity\n",
      "60     Pakistan     1106Z PA Equity\n",
      "\n",
      "[61 rows x 2 columns]\n"
     ]
    },
    {
     "name": "stderr",
     "output_type": "stream",
     "text": [
      "<ipython-input-3-8ba640d12f15>:5: SyntaxWarning: 'str' object is not callable; perhaps you missed a comma?\n",
      "  (\"\")(\"\")(\"\")(\"\")(\"\")\n"
     ]
    },
    {
     "ename": "TypeError",
     "evalue": "'str' object is not callable",
     "output_type": "error",
     "traceback": [
      "\u001b[1;31m---------------------------------------------------------------------------\u001b[0m",
      "\u001b[1;31mTypeError\u001b[0m                                 Traceback (most recent call last)",
      "\u001b[1;32m<ipython-input-3-8ba640d12f15>\u001b[0m in \u001b[0;36m<module>\u001b[1;34m\u001b[0m\n\u001b[0;32m      3\u001b[0m \u001b[0mm\u001b[0m \u001b[1;33m=\u001b[0m \u001b[0mpd\u001b[0m\u001b[1;33m.\u001b[0m\u001b[0mread_csv\u001b[0m \u001b[1;33m(\u001b[0m\u001b[1;34mr'K:\\2020_2431\\q\\matrix_ticker\\data_rating.csv'\u001b[0m\u001b[1;33m)\u001b[0m\u001b[1;33m\u001b[0m\u001b[1;33m\u001b[0m\u001b[0m\n\u001b[0;32m      4\u001b[0m \u001b[0mprint\u001b[0m\u001b[1;33m(\u001b[0m\u001b[0mm\u001b[0m\u001b[1;33m)\u001b[0m\u001b[1;33m\u001b[0m\u001b[1;33m\u001b[0m\u001b[0m\n\u001b[1;32m----> 5\u001b[1;33m \u001b[1;33m(\u001b[0m\u001b[1;34m\"\"\u001b[0m\u001b[1;33m)\u001b[0m\u001b[1;33m(\u001b[0m\u001b[1;34m\"\"\u001b[0m\u001b[1;33m)\u001b[0m\u001b[1;33m(\u001b[0m\u001b[1;34m\"\"\u001b[0m\u001b[1;33m)\u001b[0m\u001b[1;33m(\u001b[0m\u001b[1;34m\"\"\u001b[0m\u001b[1;33m)\u001b[0m\u001b[1;33m(\u001b[0m\u001b[1;34m\"\"\u001b[0m\u001b[1;33m)\u001b[0m\u001b[1;33m\u001b[0m\u001b[1;33m\u001b[0m\u001b[0m\n\u001b[0m\u001b[0;32m      6\u001b[0m \u001b[0mm\u001b[0m\u001b[1;33m[\u001b[0m\u001b[1;34m'ticker'\u001b[0m\u001b[1;33m]\u001b[0m\u001b[1;33m=\u001b[0m\u001b[0mm\u001b[0m\u001b[1;33m[\u001b[0m\u001b[1;34m'ticker'\u001b[0m\u001b[1;33m]\u001b[0m\u001b[1;33m.\u001b[0m\u001b[0mstr\u001b[0m\u001b[1;33m.\u001b[0m\u001b[0mupper\u001b[0m\u001b[1;33m(\u001b[0m\u001b[1;33m)\u001b[0m\u001b[1;33m\u001b[0m\u001b[1;33m\u001b[0m\u001b[0m\n\u001b[0;32m      7\u001b[0m \u001b[0mm\u001b[0m\u001b[1;33m[\u001b[0m\u001b[1;34m'country'\u001b[0m\u001b[1;33m]\u001b[0m\u001b[1;33m=\u001b[0m\u001b[0mm\u001b[0m\u001b[1;33m[\u001b[0m\u001b[1;34m'country'\u001b[0m\u001b[1;33m]\u001b[0m\u001b[1;33m.\u001b[0m\u001b[0mstr\u001b[0m\u001b[1;33m.\u001b[0m\u001b[0mlower\u001b[0m\u001b[1;33m(\u001b[0m\u001b[1;33m)\u001b[0m\u001b[1;33m\u001b[0m\u001b[1;33m\u001b[0m\u001b[0m\n",
      "\u001b[1;31mTypeError\u001b[0m: 'str' object is not callable"
     ]
    }
   ],
   "source": [
    "      \n",
    "        \n",
    "        \n",
    "\n",
    "#matrix with the tickers for one ticker reader\n",
    "\n",
    "m = pd.read_csv (r'K:\\2020_2431\\q\\matrix_ticker\\data_rating.csv')\n",
    "print(m)\n",
    ";;;;;\n",
    "m['ticker']=m['ticker'].str.upper()\n",
    "m['country']=m['country'].str.lower()\n",
    "m['variable']=m['variable'].str.lower()\n",
    "m['api']=m['api'].str.lower()\n",
    "m['source']=m['source'].str.lower()\n",
    "m['name']=m['name'].str.lower()\n",
    "#df['1/2 ID'] = df['1/2 ID'].str.upper()\n",
    "print(m)\n",
    "\n",
    "\n",
    "\n",
    "#makret data rpovider cds\n",
    "t_cds = m[m.variable == 'cds']\n",
    "t_cds = t_cds['ticker'].tolist()\n",
    "print(t_cds)\n",
    "m_cds = m[m.variable == 'cds']\n",
    "m_cds = m_cds[[\"country\",\"ticker\"]]\n",
    "print(m_cds)\n",
    "\n",
    "\n",
    "\n",
    "\n",
    "ticker_map={\n",
    "'Austria':\t'1480Z AV Equity'\n",
    "# 'Belgium':\t'111136Z BB Equity',\n",
    "# 'Cyprus':\t'3343903Z CY Equity',\n",
    "# 'Finland':\t'1306Z FH Equity',\n",
    "# 'France':\t'223727Z FP Equity',\n",
    "# 'Germany':\t'3413Z GR Equity',\n",
    "# 'Greece':\t'1004Z GA Equity',\n",
    "# 'Ireland':\t'1266Z ID Equity',\n",
    "# 'Italy':\t'2103Z IM Equity',\n",
    "# 'Netherlands':\t'1533Z NA Equity',\n",
    "# 'Portugal':\t'1174Z PL Equity',\n",
    "# 'Spain':\t'1841Z SM Equity'\n",
    "}"
   ]
  },
  {
   "cell_type": "code",
   "execution_count": null,
   "metadata": {},
   "outputs": [],
   "source": []
  }
 ],
 "metadata": {
  "kernelspec": {
   "display_name": "Anaconda_2020.11",
   "language": "python",
   "name": "anaconda_2020.11"
  },
  "language_info": {
   "codemirror_mode": {
    "name": "ipython",
    "version": 3
   },
   "file_extension": ".py",
   "mimetype": "text/x-python",
   "name": "python",
   "nbconvert_exporter": "python",
   "pygments_lexer": "ipython3",
   "version": "3.8.5"
  }
 },
 "nbformat": 4,
 "nbformat_minor": 4
}
