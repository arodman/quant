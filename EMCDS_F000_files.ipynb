{
 "cells": [
  {
   "cell_type": "code",
   "execution_count": 1,
   "metadata": {},
   "outputs": [],
   "source": [
    "#COnsolidaiton of all report\n",
    "#pip install PDFNetPython"
   ]
  },
  {
   "cell_type": "code",
   "execution_count": 2,
   "metadata": {},
   "outputs": [],
   "source": [
    "import os\n",
    "import shutil\n",
    "from shutil import copyfile\n",
    "import datetime as dt\n",
    "from datetime import datetime\n",
    "from PyPDF2 import PdfFileMerger\n",
    "\n",
    "#from timer import Timer\n",
    "#time_clock = Timer()\n",
    "#time_clock.start()\n",
    "#time_clock.stop()  # A few seconds later\n",
    "#Elapsed time: 3.8191 seconds\n",
    "#time_clock.start()\n",
    "\n",
    "\n",
    "from codetiming import Timer\n",
    "timeclock = Timer(name=\"class\")\n",
    "timeclock.start()\n",
    "# Do something\n"
   ]
  },
  {
   "cell_type": "code",
   "execution_count": 3,
   "metadata": {
    "scrolled": true
   },
   "outputs": [
    {
     "data": {
      "text/plain": [
       "'P://Technology//AlphaQuant//pdf_render_svc_files//AlanM//emcds//EMCDS_0006_RNN_Complete.pdf'"
      ]
     },
     "execution_count": 3,
     "metadata": {},
     "output_type": "execute_result"
    }
   ],
   "source": [
    "\n",
    "\n",
    "#####0 tehcnical\n",
    "src = r'K://2020_2431//q//cds_report//images//tc//report_f2//EMCDS_0001_Technical_Complete.pdf'\n",
    "dst = r'K://2020_2431//q//cds_report//images//complete//EMCDS_0000_Technical_Complete.pdf'\n",
    "copyfile(src, dst)\n",
    "dst = r'P://Technology//AlphaQuant//pdf_render_svc_files//AlanM//emcds//EMCDS_0000_Technical_Complete.pdf'\n",
    "copyfile(src, dst)\n",
    "\n",
    "\n",
    "\n",
    "#####01 rating\n",
    "src = r'K://2020_2431//q//cds_report//images//rating_fit//report_f//EMCDS_0001_Rating_Complete.pdf'\n",
    "dst = r'K://2020_2431//q//cds_report//images//complete//EMCDS_0001_Rating_Complete.pdf'\n",
    "copyfile(src, dst)\n",
    "dst = r'P://Technology//AlphaQuant//pdf_render_svc_files//AlanM//emcds//EMCDS_0001_Rating_Complete.pdf'\n",
    "copyfile(src, dst)\n",
    "\n",
    "\n",
    "#####02 pca\n",
    "src = r'K://2020_2431//q//cds_report//images//pca//report_f//EMCDS_0002_PCA_Complete.pdf'\n",
    "dst = r'K://2020_2431//q//cds_report//images//complete//EMCDS_0002_PCA_Complete.pdf'\n",
    "copyfile(src, dst)\n",
    "dst = r'P://Technology//AlphaQuant//pdf_render_svc_files//AlanM//emcds//EMCDS_0002_PCA_Complete.pdf'\n",
    "copyfile(src, dst)\n",
    "\n",
    "\n",
    "\n",
    "#####03 cross economic\n",
    "src = r'K://2020_2431//q//cds_report//images//cross_eco//report_f2//EMCDS_0003_CrossEconomic_Complete.pdf'\n",
    "dst = r'K://2020_2431//q//cds_report//images//complete//EMCDS_0003_CrossEconomic_Complete.pdf'\n",
    "copyfile(src, dst)\n",
    "dst = r'P://Technology//AlphaQuant//pdf_render_svc_files//AlanM//emcds//EMCDS_0003_CrossEconomic_Complete.pdf'\n",
    "copyfile(src, dst)\n",
    "\n",
    "#####04 decision tree\n",
    "src = r'K://2020_2431//q//cds_report//images//tree//report_f2//EMCDS_0004_Decisiontree_Complete.pdf'\n",
    "dst = r'K://2020_2431//q//cds_report//images//complete//EMCDS_0004_Decisiontree_Complete.pdf'\n",
    "copyfile(src, dst)\n",
    "dst = r'P://Technology//AlphaQuant//pdf_render_svc_files//AlanM//emcds//EMCDS_0004_Decisiontree_Complete.pdf'\n",
    "copyfile(src, dst)\n",
    "\n",
    "\n",
    "######05 regime swithc\n",
    "src = r'K://2020_2431//q//cds_report//images//rs//report_f2//EMCDS_0005_Regimeswitch_Complete.pdf'\n",
    "dst = r'K://2020_2431//q//cds_report//images//complete//EMCDS_0005_Regimeswitch_Complete.pdf'\n",
    "copyfile(src, dst)\n",
    "dst = r'P://Technology//AlphaQuant//pdf_render_svc_files//AlanM//emcds//EMCDS_0005_Regimeswitch_Complete.pdf'\n",
    "copyfile(src, dst)\n",
    "\n",
    "\n",
    "######06 rnn\n",
    "src = r'K://2020_2431//q//cds_report//images//rnn//report_f2//EMCDS_0006_RNN_Complete.pdf'\n",
    "dst = r'K://2020_2431//q//cds_report//images//complete//EMCDS_0006_RNN_Complete.pdf'\n",
    "copyfile(src, dst)\n",
    "dst = r'P://Technology//AlphaQuant//pdf_render_svc_files//AlanM//emcds//EMCDS_0006_RNN_Complete.pdf'\n",
    "copyfile(src, dst)\n",
    "\n",
    "\n",
    "\n",
    "#os.chdir('K:/2020_2431/q/cds_report/images/tree/report')\n",
    "#K:\\2020_2431\\q\\cds_report\\images\\cross_eco\\report_f2\n",
    "#K:/2020_2431/q/cds_report/images/cross_eco/report_f2'   \n",
    "#K:/2020_2431/q/cds_report/images/complete\n",
    "#this code takes in the file path of our source folder\n",
    "#K:\\2020_2431\\q\\cds_report\\images\\complete\n",
    "#this code takes in the file path of our destination folder"
   ]
  },
  {
   "cell_type": "code",
   "execution_count": 4,
   "metadata": {},
   "outputs": [],
   "source": [
    "end = datetime.today().strftime('%Y%m%d')\n",
    "source_dir = 'K:/2020_2431/q/cds_report/images/complete/'\n",
    "source_dir2 = 'K:/2020_2431/q/cds_report/images/complete/report_final/'\n",
    "\n",
    "merger = PdfFileMerger()\n",
    "for item in os.listdir(source_dir):\n",
    "    if item.endswith('pdf'):\n",
    "        #print(item)\n",
    "        merger.append(source_dir + item)\n",
    "\n",
    "merger.write(source_dir2 + str(end)+ ' EMCDS_A_Quantitative_Framework_complete.pdf')       \n",
    "merger.close()\n",
    "\n",
    "\n"
   ]
  },
  {
   "cell_type": "code",
   "execution_count": 5,
   "metadata": {},
   "outputs": [
    {
     "name": "stdout",
     "output_type": "stream",
     "text": [
      "Elapsed time: 550.1465 seconds\n"
     ]
    },
    {
     "data": {
      "text/plain": [
       "550.1465043"
      ]
     },
     "execution_count": 5,
     "metadata": {},
     "output_type": "execute_result"
    }
   ],
   "source": [
    "timeclock.stop()\n",
    "\n",
    "\n",
    "#import site\n",
    "#site.addsitedir(\"../../../PDFNetC/Lib\")\n",
    "#import sys\n",
    "#from PDFNetPython import *"
   ]
  },
  {
   "cell_type": "code",
   "execution_count": 6,
   "metadata": {},
   "outputs": [],
   "source": [
    "#def main():\n",
    "    \n",
    "#    # Relative path to the folder containing the test files.\n",
    "#    input_path = \"../../TestFiles/\"\n",
    "#    output_path = \"../../TestFiles/Output/\"\n",
    "#    input_filename = \"newsletter\"\n",
    "    #\n",
    "    # The first step in every application using PDFNet is to initialize the \n",
    "   # # library and set the path to common PDF resources. The library is usually \n",
    "   # # initialized only once, but calling Initialize() multiple times is also fine.\n",
    "   # PDFNet.Initialize()\n",
    "    \n",
    "    #--------------------------------------------------------------------------------\n",
    "    # Example 1) Simple optimization of a pdf with default settings.\n",
    "    \n",
    "    #doc = PDFDoc(input_path + input_filename + \".pdf\")\n",
    "    #doc.InitSecurityHandler()\n",
    "    #Optimizer.Optimize(doc)\n",
    "   # \n",
    "   # doc.Save(output_path + input_filename + \"_opt1.pdf\", SDFDoc.e_linearized)\n",
    "   # doc.Close()"
   ]
  },
  {
   "cell_type": "code",
   "execution_count": null,
   "metadata": {},
   "outputs": [],
   "source": []
  },
  {
   "cell_type": "code",
   "execution_count": null,
   "metadata": {},
   "outputs": [],
   "source": []
  },
  {
   "cell_type": "code",
   "execution_count": null,
   "metadata": {},
   "outputs": [],
   "source": []
  },
  {
   "cell_type": "code",
   "execution_count": null,
   "metadata": {},
   "outputs": [],
   "source": []
  }
 ],
 "metadata": {
  "kernelspec": {
   "display_name": "Anaconda_2020.11",
   "language": "python",
   "name": "anaconda_2020.11"
  },
  "language_info": {
   "codemirror_mode": {
    "name": "ipython",
    "version": 3
   },
   "file_extension": ".py",
   "mimetype": "text/x-python",
   "name": "python",
   "nbconvert_exporter": "python",
   "pygments_lexer": "ipython3",
   "version": "3.8.5"
  }
 },
 "nbformat": 4,
 "nbformat_minor": 4
}
